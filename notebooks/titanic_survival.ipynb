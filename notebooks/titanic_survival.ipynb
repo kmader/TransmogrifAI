{
 "cells": [
  {
   "cell_type": "markdown",
   "metadata": {},
   "source": [
    "# Overview\n",
    "### Setup Dependencies\n",
    "Here we add the transmogrifai dependencies to Apache Toree so we can interactively run the dem"
   ]
  },
  {
   "cell_type": "code",
   "execution_count": 20,
   "metadata": {},
   "outputs": [
    {
     "name": "stdout",
     "output_type": "stream",
     "text": [
      "Marking com.salesforce.transmogrifai:transmogrifai-core_2.11:0.3.4 for download\n",
      "Preparing to fetch from:\n",
      "-> file:/tmp/toree-tmp-dir4141736678546905389/toree_add_deps/\n",
      "-> https://bintray.com/salesforce/maven/\n",
      "-> https://repo1.maven.org/maven2\n",
      "-> New file at /tmp/toree-tmp-dir4141736678546905389/toree_add_deps/https/repo1.maven.org/maven2/com/salesforce/transmogrifai/transmogrifai-core_2.11/0.3.4/transmogrifai-core_2.11-0.3.4.jar\n",
      "-> New file at /tmp/toree-tmp-dir4141736678546905389/toree_add_deps/https/repo1.maven.org/maven2/com/salesforce/transmogrifai/transmogrifai-core_2.11/0.3.4/transmogrifai-core_2.11-0.3.4.pom\n"
     ]
    },
    {
     "data": {
      "text/plain": [
       "error: error while loading StaticSQLConf, class file '/home/jovyan/spark/jars/spark-catalyst_2.11-2.2.2.jar(org/apache/spark/sql/internal/StaticSQLConf.class)' has location not matching its contents: contains class StaticSQLConf\n",
       "error: error while loading SessionStateBuilder, class file '/home/jovyan/spark/jars/spark-sql_2.11-2.2.2.jar(org/apache/spark/sql/internal/SessionStateBuilder.class)' has location not matching its contents: contains class SessionStateBuilder\n",
       "error: error while loading HiveSerDe, class file '/home/jovyan/spark/jars/spark-sql_2.11-2.2.2.jar(org/apache/spark/sql/internal/HiveSerDe.class)' has location not matching its contents: contains class HiveSerDe\n",
       "error: error while loading CatalogImpl, class file '/home/jovyan/spark/jars/spark-sql_2.11-2.2.2.jar(org/apache/spark/sql/internal/CatalogImpl.class)' has location not matching its contents: contains class CatalogImpl\n",
       "error: error while loading NonClosableMutableURLClassLoader, class file '/home/jovyan/spark/jars/spark-sql_2.11-2.2.2.jar(org/apache/spark/sql/internal/NonClosableMutableURLClassLoader.class)' has location not matching its contents: contains class NonClosableMutableURLClassLoader\n",
       "error: error while loading SessionResourceLoader, class file '/home/jovyan/spark/jars/spark-sql_2.11-2.2.2.jar(org/apache/spark/sql/internal/SessionResourceLoader.class)' has location not matching its contents: contains class SessionResourceLoader\n",
       "error: error while loading BaseSessionStateBuilder, class file '/home/jovyan/spark/jars/spark-sql_2.11-2.2.2.jar(org/apache/spark/sql/internal/BaseSessionStateBuilder.class)' has location not matching its contents: contains class BaseSessionStateBuilder\n",
       "error: error while loading VariableSubstitution, class file '/home/jovyan/spark/jars/spark-sql_2.11-2.2.2.jar(org/apache/spark/sql/internal/VariableSubstitution.class)' has location not matching its contents: contains class VariableSubstitution\n",
       "error: error while loading WithTestConf, class file '/home/jovyan/spark/jars/spark-sql_2.11-2.2.2.jar(org/apache/spark/sql/internal/WithTestConf.class)' has location not matching its contents: contains class WithTestConf\n",
       "error: error while loading SchemaUtils, class file '/home/jovyan/spark/jars/spark-catalyst_2.11-2.2.2.jar(org/apache/spark/sql/util/SchemaUtils.class)' has location not matching its contents: contains class SchemaUtils\n",
       "error: error while loading QueryExecutionListener, class file '/home/jovyan/spark/jars/spark-sql_2.11-2.2.2.jar(org/apache/spark/sql/util/QueryExecutionListener.class)' has location not matching its contents: contains class QueryExecutionListener\n",
       "error: error while loading OutputMode, class file '/home/jovyan/spark/jars/spark-catalyst_2.11-2.2.2.jar(org/apache/spark/sql/streaming/OutputMode.class)' has location not matching its contents: contains class OutputMode\n",
       "error: error while loading GroupStateTimeout, class file '/home/jovyan/spark/jars/spark-catalyst_2.11-2.2.2.jar(org/apache/spark/sql/streaming/GroupStateTimeout.class)' has location not matching its contents: contains class GroupStateTimeout\n",
       "error: error while loading ProcessingTime, class file '/home/jovyan/spark/jars/spark-sql_2.11-2.2.2.jar(org/apache/spark/sql/streaming/ProcessingTime.class)' has location not matching its contents: contains class ProcessingTime\n",
       "error: error while loading StateOperatorProgress, class file '/home/jovyan/spark/jars/spark-sql_2.11-2.2.2.jar(org/apache/spark/sql/streaming/StateOperatorProgress.class)' has location not matching its contents: contains class StateOperatorProgress\n",
       "error: error while loading DataStreamWriter, class file '/home/jovyan/spark/jars/spark-sql_2.11-2.2.2.jar(org/apache/spark/sql/streaming/DataStreamWriter.class)' has location not matching its contents: contains class DataStreamWriter\n",
       "error: error while loading Trigger, class file '/home/jovyan/spark/jars/spark-sql_2.11-2.2.2.jar(org/apache/spark/sql/streaming/Trigger.class)' has location not matching its contents: contains class Trigger\n",
       "error: error while loading StreamingQueryException, class file '/home/jovyan/spark/jars/spark-sql_2.11-2.2.2.jar(org/apache/spark/sql/streaming/StreamingQueryException.class)' has location not matching its contents: contains class StreamingQueryException\n",
       "error: error while loading SourceProgress, class file '/home/jovyan/spark/jars/spark-sql_2.11-2.2.2.jar(org/apache/spark/sql/streaming/SourceProgress.class)' has location not matching its contents: contains class SourceProgress\n",
       "error: error while loading StreamingQueryProgress, class file '/home/jovyan/spark/jars/spark-sql_2.11-2.2.2.jar(org/apache/spark/sql/streaming/StreamingQueryProgress.class)' has location not matching its contents: contains class StreamingQueryProgress\n",
       "error: error while loading SinkProgress, class file '/home/jovyan/spark/jars/spark-sql_2.11-2.2.2.jar(org/apache/spark/sql/streaming/SinkProgress.class)' has location not matching its contents: contains class SinkProgress\n",
       "error: error while loading StreamingQueryListener, class file '/home/jovyan/spark/jars/spark-sql_2.11-2.2.2.jar(org/apache/spark/sql/streaming/StreamingQueryListener.class)' has location not matching its contents: contains class StreamingQueryListener\n",
       "error: error while loading StreamingQueryStatus, class file '/home/jovyan/spark/jars/spark-sql_2.11-2.2.2.jar(org/apache/spark/sql/streaming/StreamingQueryStatus.class)' has location not matching its contents: contains class StreamingQueryStatus\n",
       "error: error while loading StreamingQuery, class file '/home/jovyan/spark/jars/spark-sql_2.11-2.2.2.jar(org/apache/spark/sql/streaming/StreamingQuery.class)' has location not matching its contents: contains class StreamingQuery\n",
       "error: error while loading GroupState, class file '/home/jovyan/spark/jars/spark-sql_2.11-2.2.2.jar(org/apache/spark/sql/streaming/GroupState.class)' has location not matching its contents: contains class GroupState\n",
       "error: error while loading Table, class file '/home/jovyan/spark/jars/spark-sql_2.11-2.2.2.jar(org/apache/spark/sql/catalog/Table.class)' has location not matching its contents: contains class Table\n",
       "error: error while loading Column, class file '/home/jovyan/spark/jars/spark-sql_2.11-2.2.2.jar(org/apache/spark/sql/catalog/Column.class)' has location not matching its contents: contains class Column\n",
       "error: error while loading Database, class file '/home/jovyan/spark/jars/spark-sql_2.11-2.2.2.jar(org/apache/spark/sql/catalog/Database.class)' has location not matching its contents: contains class Database\n",
       "error: error while loading Function, class file '/home/jovyan/spark/jars/spark-sql_2.11-2.2.2.jar(org/apache/spark/sql/catalog/Function.class)' has location not matching its contents: contains class Function\n"
      ]
     },
     "metadata": {},
     "output_type": "display_data"
    },
    {
     "name": "stdout",
     "output_type": "stream",
     "text": [
      "Marking com.salesforce.transmogrifai:transmogrifai-readers_2.11:0.3.4 for download\n",
      "Preparing to fetch from:\n",
      "-> file:/tmp/toree-tmp-dir4141736678546905389/toree_add_deps/\n",
      "-> https://bintray.com/salesforce/maven/\n",
      "-> https://repo1.maven.org/maven2\n",
      "-> New file at /tmp/toree-tmp-dir4141736678546905389/toree_add_deps/https/repo1.maven.org/maven2/com/salesforce/transmogrifai/transmogrifai-readers_2.11/0.3.4/transmogrifai-readers_2.11-0.3.4.jar\n",
      "-> New file at /tmp/toree-tmp-dir4141736678546905389/toree_add_deps/https/repo1.maven.org/maven2/com/salesforce/transmogrifai/transmogrifai-readers_2.11/0.3.4/transmogrifai-readers_2.11-0.3.4.pom\n",
      "Marking com.salesforce.transmogrifai:transmogrifai-features_2.11:0.3.4 for download\n",
      "Preparing to fetch from:\n",
      "-> file:/tmp/toree-tmp-dir4141736678546905389/toree_add_deps/\n",
      "-> https://bintray.com/salesforce/maven/\n",
      "-> https://repo1.maven.org/maven2\n",
      "-> New file at /tmp/toree-tmp-dir4141736678546905389/toree_add_deps/https/repo1.maven.org/maven2/com/salesforce/transmogrifai/transmogrifai-features_2.11/0.3.4/transmogrifai-features_2.11-0.3.4.jar\n",
      "-> New file at /tmp/toree-tmp-dir4141736678546905389/toree_add_deps/https/repo1.maven.org/maven2/com/salesforce/transmogrifai/transmogrifai-features_2.11/0.3.4/transmogrifai-features_2.11-0.3.4.pom\n",
      "Marking com.salesforce.transmogrifai:transmogrifai-utils_2.11:0.3.4 for download\n",
      "Preparing to fetch from:\n",
      "-> file:/tmp/toree-tmp-dir4141736678546905389/toree_add_deps/\n",
      "-> https://bintray.com/salesforce/maven/\n",
      "-> https://repo1.maven.org/maven2\n",
      "-> New file at /tmp/toree-tmp-dir4141736678546905389/toree_add_deps/https/repo1.maven.org/maven2/com/salesforce/transmogrifai/transmogrifai-utils_2.11/0.3.4/transmogrifai-utils_2.11-0.3.4.jar\n",
      "-> New file at /tmp/toree-tmp-dir4141736678546905389/toree_add_deps/https/repo1.maven.org/maven2/com/salesforce/transmogrifai/transmogrifai-utils_2.11/0.3.4/transmogrifai-utils_2.11-0.3.4.pom\n"
     ]
    },
    {
     "data": {
      "text/plain": [
       "error: error while loading DataReaders, class file '/tmp/toree-tmp-dir4141736678546905389/toree_add_deps/https/repo1.maven.org/maven2/com/salesforce/transmogrifai/transmogrifai-readers_2.11/0.3.4/transmogrifai-readers_2.11-0.3.4.jar(com/salesforce/op/readers/DataReaders.class)' has location not matching its contents: contains class DataReaders\n"
      ]
     },
     "metadata": {},
     "output_type": "display_data"
    }
   ],
   "source": [
    "%AddDeps com.salesforce.transmogrifai transmogrifai-core_2.11 0.3.4 --repository https://bintray.com/salesforce/maven/\n",
    "%AddDeps com.salesforce.transmogrifai transmogrifai-readers_2.11 0.3.4 --repository https://bintray.com/salesforce/maven/\n",
    "%AddDeps com.salesforce.transmogrifai transmogrifai-features_2.11 0.3.4 --repository https://bintray.com/salesforce/maven/\n",
    "%AddDeps com.salesforce.transmogrifai transmogrifai-utils_2.11 0.3.4 --repository https://bintray.com/salesforce/maven/"
   ]
  },
  {
   "cell_type": "code",
   "execution_count": 6,
   "metadata": {},
   "outputs": [],
   "source": [
    "import com.salesforce.op._\n",
    "import com.salesforce.op.readers._\n",
    "import com.salesforce.op.features._\n",
    "import com.salesforce.op.features.types._\n",
    "import com.salesforce.op.stages.impl.classification._\n",
    "import org.apache.spark.SparkConf\n",
    "import org.apache.spark.sql.SparkSession"
   ]
  },
  {
   "cell_type": "code",
   "execution_count": 22,
   "metadata": {},
   "outputs": [
    {
     "data": {
      "text/plain": [
       "spark = org.apache.spark.sql.SparkSession@7ff838c2\n"
      ]
     },
     "metadata": {},
     "output_type": "display_data"
    },
    {
     "data": {
      "text/html": [
       "<ul>\n",
       "<li><a href=\"Some(http://10.12.1.190:4040)\" target=\"new_tab\">Spark UI: local-1534849641403</a></li>\n",
       "</ul>"
      ],
      "text/plain": [
       "Spark local-1534849641403: Some(http://10.12.1.190:4040)"
      ]
     },
     "execution_count": 22,
     "metadata": {},
     "output_type": "execute_result"
    }
   ],
   "source": [
    "// get the current spark session\n",
    "implicit val spark = SparkSession.builder.config(new SparkConf()).getOrCreate()\n",
    "import spark.implicits._"
   ]
  },
  {
   "cell_type": "markdown",
   "metadata": {},
   "source": [
    "## Setup Dataset\n",
    "To read the data we need a case class and the path to the dataset. Since the reader expects an `Option` type we wrap the string in `Some`"
   ]
  },
  {
   "cell_type": "code",
   "execution_count": 18,
   "metadata": {},
   "outputs": [
    {
     "data": {
      "text/plain": [
       "pathToData = Some(helloworld/src/main/resources/TitanicDataset/TitanicPassengersTrainData.csv)\n",
       "defined class Passenger\n"
      ]
     },
     "metadata": {},
     "output_type": "display_data"
    },
    {
     "data": {
      "text/plain": [
       "Some(helloworld/src/main/resources/TitanicDataset/TitanicPassengersTrainData.csv)"
      ]
     },
     "execution_count": 18,
     "metadata": {},
     "output_type": "execute_result"
    }
   ],
   "source": [
    "val pathToData = Some(\"../helloworld/src/main/resources/TitanicDataset/TitanicPassengersTrainData.csv\")\n",
    "case class Passenger\n",
    "(\n",
    "  id: Int,\n",
    "  survived: Int,\n",
    "  pClass: Option[Int],\n",
    "  name: Option[String],\n",
    "  sex: Option[String],\n",
    "  age: Option[Double],\n",
    "  sibSp: Option[Int],\n",
    "  parCh: Option[Int],\n",
    "  ticket: Option[String],\n",
    "  fare: Option[Double],\n",
    "  cabin: Option[String],\n",
    "  embarked: Option[String]\n",
    ")"
   ]
  },
  {
   "cell_type": "code",
   "execution_count": 23,
   "metadata": {},
   "outputs": [
    {
     "data": {
      "text/plain": [
       "Name: java.lang.NoClassDefFoundError\n",
       "Message: enumeratum/EnumEntry\n",
       "StackTrace: error: error while loading JavaTypeInference, class file '/home/jovyan/spark/jars/spark-catalyst_2.11-2.2.2.jar(org/apache/spark/sql/catalyst/JavaTypeInference.class)' has location not matching its contents: contains class JavaTypeInference\n",
       "error: error while loading FunctionIdentifier, class file '/home/jovyan/spark/jars/spark-catalyst_2.11-2.2.2.jar(org/apache/spark/sql/catalyst/FunctionIdentifier.class)' has location not matching its contents: contains class FunctionIdentifier\n",
       "error: error while loading DefinedByConstructorParams, class file '/home/jovyan/spark/jars/spark-catalyst_2.11-2.2.2.jar(org/apache/spark/sql/catalyst/DefinedByConstructorParams.class)' has location not matching its contents: contains class DefinedByConstructorParams\n",
       "error: error while loading IdentifierWithDatabase, class file '/home/jovyan/spark/jars/spark-catalyst_2.11-2.2.2.jar(org/apache/spark/sql/catalyst/IdentifierWithDatabase.class)' has location not matching its contents: contains class IdentifierWithDatabase\n",
       "error: error while loading SpecializedGetters, class file '/home/jovyan/spark/jars/spark-catalyst_2.11-2.2.2.jar(org/apache/spark/sql/catalyst/expressions/SpecializedGetters.class)' has location not matching its contents: contains class SpecializedGetters\n",
       "error: error while loading Decimal, class file '/home/jovyan/spark/jars/spark-catalyst_2.11-2.2.2.jar(org/apache/spark/sql/types/Decimal.class)' has location not matching its contents: contains class Decimal\n",
       "error: error while loading ScalaReflection, class file '/home/jovyan/spark/jars/spark-catalyst_2.11-2.2.2.jar(org/apache/spark/sql/catalyst/ScalaReflection.class)' has location not matching its contents: contains trait ScalaReflection\n",
       "error: error while loading CatalystTypeConverters, class file '/home/jovyan/spark/jars/spark-catalyst_2.11-2.2.2.jar(org/apache/spark/sql/catalyst/CatalystTypeConverters.class)' has location not matching its contents: contains class CatalystTypeConverters\n",
       "error: error while loading package, class file '/home/jovyan/spark/jars/spark-catalyst_2.11-2.2.2.jar(org/apache/spark/sql/catalyst/dsl/package.class)' has location not matching its contents: contains package object dsl\n",
       "error: error while loading package, class file '/home/jovyan/spark/jars/spark-catalyst_2.11-2.2.2.jar(org/apache/spark/sql/catalyst/errors/package.class)' has location not matching its contents: contains package object errors\n",
       "error: error while loading KVIterator, class file '/home/jovyan/spark/jars/spark-unsafe_2.11-2.2.2.jar(org/apache/spark/unsafe/KVIterator.class)' has location not matching its contents: contains class KVIterator\n",
       "error: error while loading UnsafeAlignedOffset, class file '/home/jovyan/spark/jars/spark-unsafe_2.11-2.2.2.jar(org/apache/spark/unsafe/UnsafeAlignedOffset.class)' has location not matching its contents: contains class UnsafeAlignedOffset\n",
       "error: error while loading Platform, class file '/home/jovyan/spark/jars/spark-unsafe_2.11-2.2.2.jar(org/apache/spark/unsafe/Platform.class)' has location not matching its contents: contains class Platform\n",
       "error: error while loading UTF8String, class file '/home/jovyan/spark/jars/spark-unsafe_2.11-2.2.2.jar(org/apache/spark/unsafe/types/UTF8String.class)' has location not matching its contents: contains class UTF8String\n",
       "error: error while loading CalendarInterval, class file '/home/jovyan/spark/jars/spark-unsafe_2.11-2.2.2.jar(org/apache/spark/unsafe/types/CalendarInterval.class)' has location not matching its contents: contains class CalendarInterval\n",
       "error: error while loading ByteArray, class file '/home/jovyan/spark/jars/spark-unsafe_2.11-2.2.2.jar(org/apache/spark/unsafe/types/ByteArray.class)' has location not matching its contents: contains class ByteArray\n",
       "error: error while loading ByteType, class file '/home/jovyan/spark/jars/spark-catalyst_2.11-2.2.2.jar(org/apache/spark/sql/types/ByteType.class)' has location not matching its contents: contains class ByteType\n",
       "error: error while loading PythonUserDefinedType, class file '/home/jovyan/spark/jars/spark-catalyst_2.11-2.2.2.jar(org/apache/spark/sql/types/PythonUserDefinedType.class)' has location not matching its contents: contains class PythonUserDefinedType\n",
       "error: error while loading Metadata, class file '/home/jovyan/spark/jars/spark-catalyst_2.11-2.2.2.jar(org/apache/spark/sql/types/Metadata.class)' has location not matching its contents: contains class Metadata\n",
       "error: error while loading UserDefinedType, class file '/home/jovyan/spark/jars/spark-catalyst_2.11-2.2.2.jar(org/apache/spark/sql/types/UserDefinedType.class)' has location not matching its contents: contains class UserDefinedType\n",
       "error: error while loading LongType, class file '/home/jovyan/spark/jars/spark-catalyst_2.11-2.2.2.jar(org/apache/spark/sql/types/LongType.class)' has location not matching its contents: contains class LongType\n",
       "error: error while loading DataTypes, class file '/home/jovyan/spark/jars/spark-catalyst_2.11-2.2.2.jar(org/apache/spark/sql/types/DataTypes.class)' has location not matching its contents: contains class DataTypes\n",
       "error: error while loading NumericType, class file '/home/jovyan/spark/jars/spark-catalyst_2.11-2.2.2.jar(org/apache/spark/sql/types/NumericType.class)' has location not matching its contents: contains class NumericType\n",
       "error: error while loading StructField, class file '/home/jovyan/spark/jars/spark-catalyst_2.11-2.2.2.jar(org/apache/spark/sql/types/StructField.class)' has location not matching its contents: contains class StructField\n",
       "error: error while loading MetadataBuilder, class file '/home/jovyan/spark/jars/spark-catalyst_2.11-2.2.2.jar(org/apache/spark/sql/types/MetadataBuilder.class)' has location not matching its contents: contains class MetadataBuilder\n",
       "error: error while loading FractionalType, class file '/home/jovyan/spark/jars/spark-catalyst_2.11-2.2.2.jar(org/apache/spark/sql/types/FractionalType.class)' has location not matching its contents: contains class FractionalType\n",
       "error: error while loading TypeCollection, class file '/home/jovyan/spark/jars/spark-catalyst_2.11-2.2.2.jar(org/apache/spark/sql/types/TypeCollection.class)' has location not matching its contents: contains class TypeCollection\n",
       "error: error while loading DoubleType, class file '/home/jovyan/spark/jars/spark-catalyst_2.11-2.2.2.jar(org/apache/spark/sql/types/DoubleType.class)' has location not matching its contents: contains class DoubleType\n",
       "error: error while loading AnyDataType, class file '/home/jovyan/spark/jars/spark-catalyst_2.11-2.2.2.jar(org/apache/spark/sql/types/AnyDataType.class)' has location not matching its contents: contains class AnyDataType\n",
       "error: error while loading StringType, class file '/home/jovyan/spark/jars/spark-catalyst_2.11-2.2.2.jar(org/apache/spark/sql/types/StringType.class)' has location not matching its contents: contains class StringType\n",
       "error: error while loading ObjectType, class file '/home/jovyan/spark/jars/spark-catalyst_2.11-2.2.2.jar(org/apache/spark/sql/types/ObjectType.class)' has location not matching its contents: contains class ObjectType\n",
       "error: error while loading NullType, class file '/home/jovyan/spark/jars/spark-catalyst_2.11-2.2.2.jar(org/apache/spark/sql/types/NullType.class)' has location not matching its contents: contains class NullType\n",
       "error: error while loading ShortType, class file '/home/jovyan/spark/jars/spark-catalyst_2.11-2.2.2.jar(org/apache/spark/sql/types/ShortType.class)' has location not matching its contents: contains class ShortType\n",
       "error: error while loading IntegralType, class file '/home/jovyan/spark/jars/spark-catalyst_2.11-2.2.2.jar(org/apache/spark/sql/types/IntegralType.class)' has location not matching its contents: contains class IntegralType\n",
       "error: error while loading AbstractDataType, class file '/home/jovyan/spark/jars/spark-catalyst_2.11-2.2.2.jar(org/apache/spark/sql/types/AbstractDataType.class)' has location not matching its contents: contains class AbstractDataType\n",
       "error: error while loading Expression, class file '/home/jovyan/spark/jars/spark-catalyst_2.11-2.2.2.jar(org/apache/spark/sql/catalyst/expressions/Expression.class)' has location not matching its contents: contains class Expression\n",
       "error: error while loading InterpretedOrdering, class file '/home/jovyan/spark/jars/spark-catalyst_2.11-2.2.2.jar(org/apache/spark/sql/catalyst/expressions/InterpretedOrdering.class)' has location not matching its contents: contains class InterpretedOrdering\n",
       "error: error while loading HiveStringType, class file '/home/jovyan/spark/jars/spark-catalyst_2.11-2.2.2.jar(org/apache/spark/sql/types/HiveStringType.class)' has location not matching its contents: contains class HiveStringType\n",
       "error: error while loading ArrayType, class file '/home/jovyan/spark/jars/spark-catalyst_2.11-2.2.2.jar(org/apache/spark/sql/types/ArrayType.class)' has location not matching its contents: contains class ArrayType\n",
       "error: error while loading BinaryType, class file '/home/jovyan/spark/jars/spark-catalyst_2.11-2.2.2.jar(org/apache/spark/sql/types/BinaryType.class)' has location not matching its contents: contains class BinaryType\n",
       "error: error while loading TimestampType, class file '/home/jovyan/spark/jars/spark-catalyst_2.11-2.2.2.jar(org/apache/spark/sql/types/TimestampType.class)' has location not matching its contents: contains class TimestampType\n",
       "error: error while loading BooleanType, class file '/home/jovyan/spark/jars/spark-catalyst_2.11-2.2.2.jar(org/apache/spark/sql/types/BooleanType.class)' has location not matching its contents: contains class BooleanType\n",
       "error: error while loading IntegerType, class file '/home/jovyan/spark/jars/spark-catalyst_2.11-2.2.2.jar(org/apache/spark/sql/types/IntegerType.class)' has location not matching its contents: contains class IntegerType\n",
       "error: error while loading DecimalType, class file '/home/jovyan/spark/jars/spark-catalyst_2.11-2.2.2.jar(org/apache/spark/sql/types/DecimalType.class)' has location not matching its contents: contains class DecimalType\n",
       "error: error while loading SQLUserDefinedType, class file '/home/jovyan/spark/jars/spark-catalyst_2.11-2.2.2.jar(org/apache/spark/sql/types/SQLUserDefinedType.class)' has location not matching its contents: contains class SQLUserDefinedType\n",
       "error: error while loading FloatType, class file '/home/jovyan/spark/jars/spark-catalyst_2.11-2.2.2.jar(org/apache/spark/sql/types/FloatType.class)' has location not matching its contents: contains class FloatType\n",
       "error: error while loading CalendarIntervalType, class file '/home/jovyan/spark/jars/spark-catalyst_2.11-2.2.2.jar(org/apache/spark/sql/types/CalendarIntervalType.class)' has location not matching its contents: contains class CalendarIntervalType\n",
       "error: error while loading CharType, class file '/home/jovyan/spark/jars/spark-catalyst_2.11-2.2.2.jar(org/apache/spark/sql/types/CharType.class)' has location not matching its contents: contains class CharType\n",
       "error: error while loading MapType, class file '/home/jovyan/spark/jars/spark-catalyst_2.11-2.2.2.jar(org/apache/spark/sql/types/MapType.class)' has location not matching its contents: contains class MapType\n",
       "error: error while loading DateType, class file '/home/jovyan/spark/jars/spark-catalyst_2.11-2.2.2.jar(org/apache/spark/sql/types/DateType.class)' has location not matching its contents: contains class DateType\n",
       "error: error while loading AtomicType, class file '/home/jovyan/spark/jars/spark-catalyst_2.11-2.2.2.jar(org/apache/spark/sql/types/AtomicType.class)' has location not matching its contents: contains class AtomicType\n",
       "error: error while loading VarcharType, class file '/home/jovyan/spark/jars/spark-catalyst_2.11-2.2.2.jar(org/apache/spark/sql/types/VarcharType.class)' has location not matching its contents: contains class VarcharType\n",
       "error: error while loading UDTRegistration, class file '/home/jovyan/spark/jars/spark-catalyst_2.11-2.2.2.jar(org/apache/spark/sql/types/UDTRegistration.class)' has location not matching its contents: contains class UDTRegistration\n",
       "java.lang.NoClassDefFoundError: enumeratum/EnumEntry\n",
       "  at java.lang.ClassLoader.defineClass1(Native Method)\n",
       "  at java.lang.ClassLoader.defineClass(ClassLoader.java:763)\n",
       "  at java.security.SecureClassLoader.defineClass(SecureClassLoader.java:142)\n",
       "  at java.net.URLClassLoader.defineClass(URLClassLoader.java:467)\n",
       "  at java.net.URLClassLoader.access$100(URLClassLoader.java:73)\n",
       "  at java.net.URLClassLoader$1.run(URLClassLoader.java:368)\n",
       "  at java.net.URLClassLoader$1.run(URLClassLoader.java:362)\n",
       "  at java.security.AccessController.doPrivileged(Native Method)\n",
       "  at java.net.URLClassLoader.findClass(URLClassLoader.java:361)\n",
       "  at java.lang.ClassLoader.loadClass(ClassLoader.java:424)\n",
       "  at java.lang.ClassLoader.loadClass(ClassLoader.java:357)\n",
       "  at com.salesforce.op.readers.CSVProductReader.<init>(CSVProductReaders.scala:54)\n",
       "  at com.salesforce.op.readers.DataReaders$Simple$.csvProduct(DataReaders.scala:83)\n",
       "  at com.salesforce.op.readers.DataReaders$Simple$.csvCase(DataReaders.scala:92)\n",
       "  ... 74 elided\n",
       "Caused by: java.lang.ClassNotFoundException: enumeratum.EnumEntry\n",
       "  at java.net.URLClassLoader.findClass(URLClassLoader.java:381)\n",
       "  at java.lang.ClassLoader.loadClass(ClassLoader.java:424)\n",
       "  at java.lang.ClassLoader.loadClass(ClassLoader.java:357)"
      ]
     },
     "execution_count": 23,
     "metadata": {},
     "output_type": "execute_result"
    }
   ],
   "source": [
    "// Read Titanic data as a DataFrame\n",
    "val passengersData = DataReaders.Simple.csvCase[Passenger](path = pathToData).readDataset().toDF()"
   ]
  },
  {
   "cell_type": "code",
   "execution_count": 24,
   "metadata": {},
   "outputs": [
    {
     "data": {
      "text/plain": [
       "Name: Unknown Error\n",
       "Message: lastException: Throwable = null\n",
       "<console>:136: error: not found: value passengersData\n",
       "Error occurred in an application involving default arguments.\n",
       "       val (survived, predictors) = FeatureBuilder.fromDataFrame[RealNN](passengersData, response = \"survived\")\n",
       "                                                                         ^\n",
       "\n",
       "StackTrace: "
      ]
     },
     "execution_count": 24,
     "metadata": {},
     "output_type": "execute_result"
    }
   ],
   "source": [
    "// Extract response and predictor Features\n",
    "val (survived, predictors) = FeatureBuilder.fromDataFrame[RealNN](passengersData, response = \"survived\")"
   ]
  },
  {
   "cell_type": "code",
   "execution_count": 25,
   "metadata": {},
   "outputs": [
    {
     "data": {
      "text/plain": [
       "Name: Unknown Error\n",
       "Message: <console>:136: error: not found: value predictors\n",
       "       val featureVector = predictors.transmogrify()\n",
       "                           ^\n",
       "\n",
       "StackTrace: "
      ]
     },
     "execution_count": 25,
     "metadata": {},
     "output_type": "execute_result"
    }
   ],
   "source": [
    "// Automated feature engineering\n",
    "val featureVector = predictors.transmogrify()"
   ]
  },
  {
   "cell_type": "code",
   "execution_count": 26,
   "metadata": {},
   "outputs": [
    {
     "data": {
      "text/plain": [
       "Name: Unknown Error\n",
       "Message: <console>:136: error: not found: value survived\n",
       "       val checkedFeatures = survived.sanityCheck(featureVector, removeBadFeatures = true)\n",
       "                             ^\n",
       "<console>:136: error: not found: value featureVector\n",
       "       val checkedFeatures = survived.sanityCheck(featureVector, removeBadFeatures = true)\n",
       "                                                  ^\n",
       "<console>:136: error: not found: value removeBadFeatures\n",
       "       val checkedFeatures = survived.sanityCheck(featureVector, removeBadFeatures = true)\n",
       "                                                                 ^\n",
       "\n",
       "StackTrace: "
      ]
     },
     "execution_count": 26,
     "metadata": {},
     "output_type": "execute_result"
    }
   ],
   "source": [
    "// Automated feature validation and selection\n",
    "val checkedFeatures = survived.sanityCheck(featureVector, removeBadFeatures = true)"
   ]
  },
  {
   "cell_type": "code",
   "execution_count": 27,
   "metadata": {},
   "outputs": [
    {
     "data": {
      "text/plain": [
       "Name: Unknown Error\n",
       "Message: <console>:136: error: too many arguments for method setInput: (features: (com.salesforce.op.features.FeatureLike[com.salesforce.op.features.types.RealNN], com.salesforce.op.features.FeatureLike[com.salesforce.op.features.types.OPVector]))com.salesforce.op.stages.impl.classification.BinaryClassificationModelSelector\n",
       "       val (pred, raw, prob) = BinaryClassificationModelSelector().setInput(survived, checkedFeatures).getOutput()\n",
       "                                                                           ^\n",
       "\n",
       "StackTrace: "
      ]
     },
     "execution_count": 27,
     "metadata": {},
     "output_type": "execute_result"
    }
   ],
   "source": [
    "// Automated model selection\n",
    "val (pred, raw, prob) = BinaryClassificationModelSelector().setInput(survived, checkedFeatures).getOutput()"
   ]
  },
  {
   "cell_type": "code",
   "execution_count": 28,
   "metadata": {},
   "outputs": [
    {
     "data": {
      "text/plain": [
       "Name: Unknown Error\n",
       "Message: <console>:136: error: not found: value passengersData\n",
       "       val model = new OpWorkflow().setInputDataset(passengersData).setResultFeatures(pred).train()\n",
       "                                                    ^\n",
       "<console>:136: error: not found: value pred\n",
       "       val model = new OpWorkflow().setInputDataset(passengersData).setResultFeatures(pred).train()\n",
       "                                                                                      ^\n",
       "\n",
       "StackTrace: "
      ]
     },
     "execution_count": 28,
     "metadata": {},
     "output_type": "execute_result"
    }
   ],
   "source": [
    "// Setting up a TransmogrifAI workflow and training the model\n",
    "val model = new OpWorkflow().setInputDataset(passengersData).setResultFeatures(pred).train()"
   ]
  },
  {
   "cell_type": "code",
   "execution_count": 29,
   "metadata": {},
   "outputs": [
    {
     "data": {
      "text/plain": [
       "Name: Unknown Error\n",
       "Message: <console>:136: error: not found: value model\n",
       "       println(\"Model summary:\\n\" + model.summaryPretty())\n",
       "                                    ^\n",
       "\n",
       "StackTrace: "
      ]
     },
     "execution_count": 29,
     "metadata": {},
     "output_type": "execute_result"
    }
   ],
   "source": [
    "println(\"Model summary:\\n\" + model.summaryPretty())"
   ]
  },
  {
   "cell_type": "code",
   "execution_count": null,
   "metadata": {},
   "outputs": [],
   "source": []
  }
 ],
 "metadata": {
  "kernelspec": {
   "display_name": "Apache Toree - Scala",
   "language": "scala",
   "name": "apache_toree_scala"
  },
  "language_info": {
   "codemirror_mode": "text/x-scala",
   "file_extension": ".scala",
   "mimetype": "text/x-scala",
   "name": "scala",
   "pygments_lexer": "scala",
   "version": "2.11.8"
  }
 },
 "nbformat": 4,
 "nbformat_minor": 2
}
