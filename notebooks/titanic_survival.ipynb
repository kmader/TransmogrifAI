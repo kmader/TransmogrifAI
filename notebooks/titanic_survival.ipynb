{
 "cells": [
  {
   "cell_type": "markdown",
   "metadata": {},
   "source": [
    "# Overview\n",
    "### Setup Dependencies\n",
    "Here we add the transmogrifai dependencies to Apache Toree so we can interactively run the dem"
   ]
  },
  {
   "cell_type": "code",
   "execution_count": null,
   "metadata": {},
   "outputs": [],
   "source": [
    "%AddDeps com.salesforce.transmogrifai transmogrifai-core_2.11 0.3.4 --repository https://bintray.com/salesforce/maven/\n",
    "%AddDeps com.salesforce.transmogrifai transmogrifai-readers_2.11 0.3.4 --repository https://bintray.com/salesforce/maven/\n",
    "%AddDeps com.salesforce.transmogrifai transmogrifai-features_2.11 0.3.4 --repository https://bintray.com/salesforce/maven/"
   ]
  },
  {
   "cell_type": "markdown",
   "metadata": {},
   "source": [
    "## Dataset\n",
    "- download titanic dataset\n",
    "- set pathToData variable"
   ]
  },
  {
   "cell_type": "code",
   "execution_count": 9,
   "metadata": {},
   "outputs": [
    {
     "name": "stdout",
     "output_type": "stream",
     "text": [
      "--2018-08-21 11:08:44--  https://rawgit.com/datasciencedojo/datasets/master/titanic.csv\n",
      "Resolving rawgit.com (rawgit.com)... 104.27.188.188, 104.27.189.188, 2400:cb00:2048:1::681b:bcbc, ...\n",
      "Connecting to rawgit.com (rawgit.com)|104.27.188.188|:443... connected.\n",
      "HTTP request sent, awaiting response... 200 OK\n",
      "Length: unspecified [text/csv]\n",
      "Saving to: ‘titanic.csv.1’\n",
      "\n",
      "     0K .......... .......... .......... .......... .......... 1.27M\n",
      "    50K ........                                               63.2M=0.04s\n",
      "\n",
      "2018-08-21 11:08:44 (1.49 MB/s) - ‘titanic.csv.1’ saved [60302]\n",
      "\n"
     ]
    },
    {
     "data": {
      "text/plain": [
       "pathToData = titanic.csv\n"
      ]
     },
     "metadata": {},
     "output_type": "display_data"
    },
    {
     "data": {
      "text/plain": [
       "warning: there was one feature warning; re-run with -feature for details\n"
      ]
     },
     "metadata": {},
     "output_type": "display_data"
    },
    {
     "data": {
      "text/plain": [
       "titanic.csv"
      ]
     },
     "execution_count": 9,
     "metadata": {},
     "output_type": "execute_result"
    }
   ],
   "source": [
    "import sys.process._\n",
    "\"wget https://rawgit.com/datasciencedojo/datasets/master/titanic.csv\" !\n",
    "val pathToData = \"titanic.csv\""
   ]
  },
  {
   "cell_type": "code",
   "execution_count": 6,
   "metadata": {},
   "outputs": [],
   "source": [
    "import com.salesforce.op._\n",
    "import com.salesforce.op.readers._\n",
    "import com.salesforce.op.features._\n",
    "import com.salesforce.op.features.types._\n",
    "import com.salesforce.op.stages.impl.classification._\n",
    "import org.apache.spark.SparkConf\n",
    "import org.apache.spark.sql.SparkSession"
   ]
  },
  {
   "cell_type": "code",
   "execution_count": 11,
   "metadata": {},
   "outputs": [
    {
     "data": {
      "text/plain": [
       "spark = org.apache.spark.sql.SparkSession@7ff838c2\n"
      ]
     },
     "metadata": {},
     "output_type": "display_data"
    },
    {
     "data": {
      "text/html": [
       "<ul>\n",
       "<li><a href=\"Some(http://10.12.1.190:4040)\" target=\"new_tab\">Spark UI: local-1534849641403</a></li>\n",
       "</ul>"
      ],
      "text/plain": [
       "Spark local-1534849641403: Some(http://10.12.1.190:4040)"
      ]
     },
     "execution_count": 11,
     "metadata": {},
     "output_type": "execute_result"
    }
   ],
   "source": [
    "// get the current spark session\n",
    "implicit val spark = SparkSession.builder.config(new SparkConf()).getOrCreate()\n",
    "import spark.implicits._"
   ]
  },
  {
   "cell_type": "code",
   "execution_count": 14,
   "metadata": {},
   "outputs": [
    {
     "data": {
      "text/plain": [
       "Name: Compile Error\n",
       "Message: <console>:87: error: not found: value Passenger\n",
       "       Passenger\n",
       "       ^\n",
       "\n",
       "StackTrace: "
      ]
     },
     "execution_count": 14,
     "metadata": {},
     "output_type": "execute_result"
    }
   ],
   "source": [
    "Passenger"
   ]
  },
  {
   "cell_type": "code",
   "execution_count": 13,
   "metadata": {},
   "outputs": [
    {
     "data": {
      "text/plain": [
       "com.salesforce.op.readers.DataReaders$@4a7e5d25"
      ]
     },
     "execution_count": 13,
     "metadata": {},
     "output_type": "execute_result"
    }
   ],
   "source": [
    "DataReaders.Simple.csvCase[Pa]"
   ]
  },
  {
   "cell_type": "code",
   "execution_count": 12,
   "metadata": {},
   "outputs": [
    {
     "data": {
      "text/plain": [
       "Name: Compile Error\n",
       "Message: <console>:89: error: not found: type Passenger\n",
       "       val passengersData = DataReaders.Simple.csvCase[Passenger](path = pathToData).readDataset().toDF()\n",
       "                                                       ^\n",
       "<console>:89: error: not found: value path\n",
       "       val passengersData = DataReaders.Simple.csvCase[Passenger](path = pathToData).readDataset().toDF()\n",
       "                                                                  ^\n",
       "\n",
       "StackTrace: "
      ]
     },
     "execution_count": 12,
     "metadata": {},
     "output_type": "execute_result"
    }
   ],
   "source": [
    "// Read Titanic data as a DataFrame\n",
    "val passengersData = DataReaders.Simple.csvCase[Passenger](path = pathToData).readDataset().toDF()"
   ]
  },
  {
   "cell_type": "code",
   "execution_count": null,
   "metadata": {},
   "outputs": [],
   "source": [
    "// Extract response and predictor Features\n",
    "val (survived, predictors) = FeatureBuilder.fromDataFrame[RealNN](passengersData, response = \"survived\")"
   ]
  },
  {
   "cell_type": "code",
   "execution_count": null,
   "metadata": {},
   "outputs": [],
   "source": [
    "// Automated feature engineering\n",
    "val featureVector = predictors.transmogrify()"
   ]
  },
  {
   "cell_type": "code",
   "execution_count": null,
   "metadata": {},
   "outputs": [],
   "source": [
    "// Automated feature validation and selection\n",
    "val checkedFeatures = survived.sanityCheck(featureVector, removeBadFeatures = true)"
   ]
  },
  {
   "cell_type": "code",
   "execution_count": null,
   "metadata": {},
   "outputs": [],
   "source": [
    "// Automated model selection\n",
    "val (pred, raw, prob) = BinaryClassificationModelSelector().setInput(survived, checkedFeatures).getOutput()"
   ]
  },
  {
   "cell_type": "code",
   "execution_count": null,
   "metadata": {},
   "outputs": [],
   "source": [
    "// Setting up a TransmogrifAI workflow and training the model\n",
    "val model = new OpWorkflow().setInputDataset(passengersData).setResultFeatures(pred).train()"
   ]
  },
  {
   "cell_type": "code",
   "execution_count": 8,
   "metadata": {},
   "outputs": [],
   "source": [
    "println(\"Model summary:\\n\" + model.summaryPretty())"
   ]
  },
  {
   "cell_type": "code",
   "execution_count": null,
   "metadata": {},
   "outputs": [],
   "source": []
  }
 ],
 "metadata": {
  "kernelspec": {
   "display_name": "Apache Toree - Scala",
   "language": "scala",
   "name": "apache_toree_scala"
  },
  "language_info": {
   "codemirror_mode": "text/x-scala",
   "file_extension": ".scala",
   "mimetype": "text/x-scala",
   "name": "scala",
   "pygments_lexer": "scala",
   "version": "2.11.8"
  }
 },
 "nbformat": 4,
 "nbformat_minor": 2
}
